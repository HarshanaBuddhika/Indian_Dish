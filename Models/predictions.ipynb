{
 "cells": [
  {
   "cell_type": "markdown",
   "id": "11620565",
   "metadata": {},
   "source": [
    "pip install ipywidgets"
   ]
  },
  {
   "cell_type": "code",
   "execution_count": 1,
   "id": "4002b64d",
   "metadata": {},
   "outputs": [
    {
     "name": "stderr",
     "output_type": "stream",
     "text": [
      "WARNING:absl:Compiled the loaded model, but the compiled metrics have yet to be built. `model.compile_metrics` will be empty until you train or evaluate the model.\n"
     ]
    }
   ],
   "source": [
    "from tensorflow.keras.models import load_model\n",
    "\n",
    "# Load the model from the file\n",
    "model = load_model('dishid_model1.h5')"
   ]
  },
  {
   "cell_type": "code",
   "execution_count": 7,
   "id": "63bef4e3",
   "metadata": {},
   "outputs": [
    {
     "name": "stdout",
     "output_type": "stream",
     "text": [
      "\u001b[1m1/1\u001b[0m \u001b[32m━━━━━━━━━━━━━━━━━━━━\u001b[0m\u001b[37m\u001b[0m \u001b[1m0s\u001b[0m 48ms/step\n"
     ]
    }
   ],
   "source": [
    "from tensorflow.keras.preprocessing import image\n",
    "import numpy as np\n",
    "\n",
    "# Load and preprocess the image\n",
    "img_path = 'images.jpeg'\n",
    "img = image.load_img(img_path, target_size=(224, 224))  # Resize the image\n",
    "img_array = image.img_to_array(img)  # Convert to NumPy array\n",
    "img_array = np.expand_dims(img_array, axis=0)  # Add batch dimension\n",
    "img_array = img_array / 255.0  # Scale pixel values\n",
    "\n",
    "# Make a prediction\n",
    "predictions = model.predict(img_array)\n",
    "predicted_class = np.argmax(predictions, axis=1)"
   ]
  },
  {
   "cell_type": "markdown",
   "id": "e509dac1",
   "metadata": {},
   "source": [
    "{'butter_naan': 0, 'chapati': 1, 'fried_rice': 2, 'idli': 3, 'kadai_paneer': 4, 'masala_dosa': 5, 'paani_puri': 6, 'pakode': 7, 'samosa': 8}"
   ]
  },
  {
   "cell_type": "code",
   "execution_count": 8,
   "id": "2ad52821",
   "metadata": {},
   "outputs": [
    {
     "name": "stdout",
     "output_type": "stream",
     "text": [
      "Predicted Class: butter_naan\n"
     ]
    }
   ],
   "source": [
    "class_mapping = {\n",
    "    0: 'butter_naan',\n",
    "    1: 'chapati',\n",
    "    2: 'fried_rice',\n",
    "    3: 'idli',\n",
    "    4: 'kadai_paneer',\n",
    "    5: 'masala_dosa',\n",
    "    6: 'paani_puri',\n",
    "    7: 'pakode',\n",
    "    8: 'samosa'\n",
    "}\n",
    "predicted_class_name = class_mapping.get(predicted_class[0], 'Unknown')\n",
    "print(f\"Predicted Class: {predicted_class_name}\")"
   ]
  },
  {
   "cell_type": "code",
   "execution_count": null,
   "id": "eed5412f",
   "metadata": {},
   "outputs": [],
   "source": []
  }
 ],
 "metadata": {
  "kernelspec": {
   "display_name": "Python 3 (ipykernel)",
   "language": "python",
   "name": "python3"
  },
  "language_info": {
   "codemirror_mode": {
    "name": "ipython",
    "version": 3
   },
   "file_extension": ".py",
   "mimetype": "text/x-python",
   "name": "python",
   "nbconvert_exporter": "python",
   "pygments_lexer": "ipython3",
   "version": "3.11.4"
  }
 },
 "nbformat": 4,
 "nbformat_minor": 5
}
